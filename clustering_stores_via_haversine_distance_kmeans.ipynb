{
 "cells": [
  {
   "cell_type": "markdown",
   "metadata": {},
   "source": [
    "# Clustering spatial data(retail stores) via the latitude, longitude coordinates available for the retail stores. "
   ]
  },
  {
   "cell_type": "markdown",
   "metadata": {},
   "source": [
    "### Importing libs"
   ]
  },
  {
   "cell_type": "code",
   "execution_count": 1,
   "metadata": {},
   "outputs": [],
   "source": [
    "import pandas as pd\n",
    "import numpy as np\n",
    "from sklearn.cluster import KMeans\n",
    "from scipy.spatial.distance import cdist\n",
    "import math\n",
    "import matplotlib.pyplot as plt"
   ]
  },
  {
   "cell_type": "markdown",
   "metadata": {},
   "source": [
    "### Importing data(lat,long coordinates of the stores)"
   ]
  },
  {
   "cell_type": "code",
   "execution_count": 2,
   "metadata": {},
   "outputs": [
    {
     "name": "stdout",
     "output_type": "stream",
     "text": [
      "[[19.0209926  72.8403817 ]\n",
      " [19.2353777  72.8641904 ]\n",
      " [19.1886025  72.85634766]\n",
      " ...\n",
      " [18.45992267 73.81853091]\n",
      " [28.63501809 77.08556006]\n",
      " [18.464077   73.867619  ]]\n"
     ]
    }
   ],
   "source": [
    "df = pd.read_excel('H:\\intern_lovelocal\\ML_Project\\lat_long_google_api.xlsx')\n",
    "X=df.loc[:,['store_latitude','store_longitude']]\n",
    "points= np.array(X)\n",
    "print(points)\n"
   ]
  },
  {
   "cell_type": "markdown",
   "metadata": {},
   "source": [
    "### Calculating distance between retail stores via the Haversine matrix formula"
   ]
  },
  {
   "cell_type": "code",
   "execution_count": 4,
   "metadata": {},
   "outputs": [],
   "source": [
    "def distance(origin, destination): #found here https://gist.github.com/rochacbruno/2883505\n",
    "    lat1, lon1 = origin[0],origin[1]\n",
    "    lat2, lon2 = destination[0],destination[1]\n",
    "    radius = 6371 # km\n",
    "    dlat = math.radians(lat2-lat1)\n",
    "    dlon = math.radians(lon2-lon1)\n",
    "    a = math.sin(dlat/2) * math.sin(dlat/2) + math.cos(math.radians(lat1)) \\\n",
    "        * math.cos(math.radians(lat2)) * math.sin(dlon/2) * math.sin(dlon/2)\n",
    "    c = 2 * math.atan2(math.sqrt(a), math.sqrt(1-a))\n",
    "    d = radius * c\n",
    "\n",
    "    return d"
   ]
  },
  {
   "cell_type": "markdown",
   "metadata": {},
   "source": [
    "### Creating clusters"
   ]
  },
  {
   "cell_type": "code",
   "execution_count": 5,
   "metadata": {},
   "outputs": [],
   "source": [
    "def create_clusters(number_of_clusters,points):    \n",
    "    kmeans = KMeans(n_clusters=number_of_clusters, random_state=0).fit(points)    \n",
    "    id_label=kmeans.labels_    \n",
    "    l_array = np.array([[label] for label in kmeans.labels_])\n",
    "    clusters = np.append(points,l_array,axis=1)\n",
    "    return clusters"
   ]
  },
  {
   "cell_type": "markdown",
   "metadata": {},
   "source": [
    "### Getting cluster centroids"
   ]
  },
  {
   "cell_type": "code",
   "execution_count": 16,
   "metadata": {},
   "outputs": [],
   "source": [
    "def cluster_centroids(number_of_clusters,points):\n",
    "    number_of_clusters=11\n",
    "    \n",
    "    kmeans = KMeans(n_clusters=number_of_clusters, random_state=0).fit(points)\n",
    "    \n",
    "    id_label=kmeans.labels_    \n",
    "    l_array = np.array([[label] for label in kmeans.labels_])\n",
    "    clusters = np.append(points,l_array,axis=1)\n",
    "    centroids = kmeans.cluster_centers_\n",
    "    return clusters,centroids"
   ]
  },
  {
   "cell_type": "markdown",
   "metadata": {},
   "source": [
    "### Validating the solution"
   ]
  },
  {
   "cell_type": "code",
   "execution_count": 6,
   "metadata": {},
   "outputs": [],
   "source": [
    "def validate_solution(max_dist,clusters):\n",
    "    _, __, n_clust = clusters.max(axis=0)\n",
    "    n_clust = int(n_clust)\n",
    "    for i in range(n_clust):\n",
    "        two_d_cluster=clusters[clusters[:,2] == i][:,np.array([True, True, False])]\n",
    "        if not validate_cluster(max_dist,two_d_cluster):\n",
    "            return False\n",
    "        else:\n",
    "            continue\n",
    "    return True"
   ]
  },
  {
   "cell_type": "markdown",
   "metadata": {},
   "source": [
    "### Validating the clusters"
   ]
  },
  {
   "cell_type": "code",
   "execution_count": null,
   "metadata": {},
   "outputs": [],
   "source": [
    "def validate_cluster(max_dist,cluster):\n",
    "    distances = cdist(cluster,cluster, lambda ori,des: int(round(distance(ori,des))))\n",
    "    print(distances)\n",
    "    print(30*'-')\n",
    "    for item in distances.flatten():\n",
    "        if item > max_dist:\n",
    "            return False\n",
    "    return True"
   ]
  },
  {
   "cell_type": "markdown",
   "metadata": {},
   "source": [
    "### Get optimum number of clusters"
   ]
  },
  {
   "cell_type": "code",
   "execution_count": null,
   "metadata": {},
   "outputs": [],
   "source": [
    "if __name__ == '__main__':\n",
    "    for i in range(2,40): #specify the number of clusters to be made, and the output will give the optimum number of clusters using elbow method\n",
    "        print(i)\n",
    "        print(validate_solution(10,create_clusters(i,points)))"
   ]
  },
  {
   "cell_type": "markdown",
   "metadata": {},
   "source": [
    "Got 11 as optimum number of clusters, via above code."
   ]
  },
  {
   "cell_type": "markdown",
   "metadata": {},
   "source": [
    "### Get cluster centroids for the optimum clusters got"
   ]
  },
  {
   "cell_type": "code",
   "execution_count": 17,
   "metadata": {},
   "outputs": [
    {
     "name": "stdout",
     "output_type": "stream",
     "text": [
      "[[24.42615051 72.93411798]\n",
      " [19.19396304 72.88359209]\n",
      " [28.71938616 77.21987989]\n",
      " [24.06662515 86.40353931]\n",
      " [17.76687581 78.3491089 ]\n",
      " [12.80035239 77.80485137]\n",
      " [25.45952024 80.61005932]\n",
      " [25.07970141 83.72000511]\n",
      " [22.67560356 76.81881999]\n",
      " [18.41930331 73.96678983]\n",
      " [26.53761836 76.10917941]]\n"
     ]
    }
   ],
   "source": [
    "results,centroids = cluster_centroids(11,points)\n",
    "print(centroids)"
   ]
  },
  {
   "cell_type": "markdown",
   "metadata": {},
   "source": [
    "Got the centroid of 11 clusters which will be fed to google places API to get required data. "
   ]
  },
  {
   "cell_type": "code",
   "execution_count": null,
   "metadata": {},
   "outputs": [],
   "source": []
  }
 ],
 "metadata": {
  "kernelspec": {
   "display_name": "Python 3",
   "language": "python",
   "name": "python3"
  },
  "language_info": {
   "codemirror_mode": {
    "name": "ipython",
    "version": 3
   },
   "file_extension": ".py",
   "mimetype": "text/x-python",
   "name": "python",
   "nbconvert_exporter": "python",
   "pygments_lexer": "ipython3",
   "version": "3.7.4"
  }
 },
 "nbformat": 4,
 "nbformat_minor": 2
}
